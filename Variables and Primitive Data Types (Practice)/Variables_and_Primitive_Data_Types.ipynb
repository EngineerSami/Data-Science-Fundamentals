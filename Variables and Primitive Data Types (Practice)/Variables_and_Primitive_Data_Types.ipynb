{
  "nbformat": 4,
  "nbformat_minor": 0,
  "metadata": {
    "colab": {
      "provenance": []
    },
    "kernelspec": {
      "name": "python3",
      "display_name": "Python 3"
    },
    "language_info": {
      "name": "python"
    }
  },
  "cells": [
    {
      "cell_type": "markdown",
      "source": [
        "# Variables and Primitive Data Types Practice"
      ],
      "metadata": {
        "id": "zy9NuR2fuGeT"
      }
    },
    {
      "cell_type": "markdown",
      "source": [
        "# Task 0\n",
        "Print the string 'Hello World!'"
      ],
      "metadata": {
        "id": "uyujPC7qRJlm"
      }
    },
    {
      "cell_type": "code",
      "source": [
        "print(\"Hello World!\")\n"
      ],
      "metadata": {
        "id": "dtKQsi98RbQf",
        "outputId": "295e57e1-e3c1-4dfe-8a34-69a509f34ceb",
        "colab": {
          "base_uri": "https://localhost:8080/"
        }
      },
      "execution_count": 1,
      "outputs": [
        {
          "output_type": "stream",
          "name": "stdout",
          "text": [
            "Hello World!\n"
          ]
        }
      ]
    },
    {
      "cell_type": "markdown",
      "source": [
        "## Task 1a\n",
        "\n",
        "Define a variable **distance** that points to 140.\n",
        "\n",
        "Define a variable **time** that points to 3.\n",
        "\n",
        "Define a variable **speed** that points to the calculation for the speed. Be sure to use the variables names in your calculation. (Speed = distance/time)  \n",
        "\n",
        "Print the speed using print(speed)"
      ],
      "metadata": {
        "id": "iHQFHZyXuM0k"
      }
    },
    {
      "cell_type": "code",
      "execution_count": 2,
      "metadata": {
        "id": "LlQ8wB57t9n0",
        "outputId": "c6eb2241-ff29-46ad-9334-2eb41d367095",
        "colab": {
          "base_uri": "https://localhost:8080/"
        }
      },
      "outputs": [
        {
          "output_type": "stream",
          "name": "stdout",
          "text": [
            "46.666666666666664\n"
          ]
        }
      ],
      "source": [
        "distance = 130\n",
        "time = 6\n",
        "speed = distance / time\n",
        "\n",
        "print(speed)"
      ]
    },
    {
      "cell_type": "markdown",
      "source": [
        "#Task 1b\n",
        "Build on your previous code.\n",
        "\n",
        "Instead of just printing speed, print an f statement that says:\n",
        "\n",
        "If it takes __ hours to travel __ miles, the speed is __ miles per hour.  \n",
        "\n",
        "Fill in the blanks with the appropriate variables."
      ],
      "metadata": {
        "id": "h7juifK_vMXb"
      }
    },
    {
      "cell_type": "code",
      "source": [
        "distance = 130\n",
        "time = 6\n",
        "speed = distance / time\n",
        "\n",
        "print(f\"If it takes {time} hours to travel {distance} miles, the speed is {speed} miles per hour.\")\n"
      ],
      "metadata": {
        "id": "dt_bJZCovkvP",
        "outputId": "d6860ad2-75eb-48dd-8f45-d7fdabedfe0f",
        "colab": {
          "base_uri": "https://localhost:8080/"
        }
      },
      "execution_count": 3,
      "outputs": [
        {
          "output_type": "stream",
          "name": "stdout",
          "text": [
            "If it takes 3 hours to travel 140 miles, the speed is 46.666666666666664 miles per hour.\n"
          ]
        }
      ]
    },
    {
      "cell_type": "markdown",
      "source": [
        "# Task 1c\n",
        "Check the data type of all three of your variables"
      ],
      "metadata": {
        "id": "KOy7i12dwjkE"
      }
    },
    {
      "cell_type": "code",
      "source": [
        "print(type(distance))"
      ],
      "metadata": {
        "id": "QdUNyzrAxHiD",
        "outputId": "ddf21b4a-a38a-4002-99d6-2b479571bce0",
        "colab": {
          "base_uri": "https://localhost:8080/"
        }
      },
      "execution_count": 4,
      "outputs": [
        {
          "output_type": "stream",
          "name": "stdout",
          "text": [
            "<class 'int'>\n"
          ]
        }
      ]
    },
    {
      "cell_type": "code",
      "source": [
        "print(type(time))"
      ],
      "metadata": {
        "id": "aAOB3_Q6xSYs",
        "outputId": "653dda06-9674-4927-a263-0cc0680d6002",
        "colab": {
          "base_uri": "https://localhost:8080/"
        }
      },
      "execution_count": 6,
      "outputs": [
        {
          "output_type": "stream",
          "name": "stdout",
          "text": [
            "<class 'int'>\n"
          ]
        }
      ]
    },
    {
      "cell_type": "code",
      "source": [
        "print(type(speed))"
      ],
      "metadata": {
        "id": "_U8xxGQbxU19",
        "outputId": "2c34308f-ae77-415a-ede4-220cf7781f48",
        "colab": {
          "base_uri": "https://localhost:8080/"
        }
      },
      "execution_count": 5,
      "outputs": [
        {
          "output_type": "stream",
          "name": "stdout",
          "text": [
            "<class 'float'>\n"
          ]
        }
      ]
    },
    {
      "cell_type": "markdown",
      "source": [
        "# Task 1d\n",
        "Change the data type of time from integer to float.\n",
        "\n",
        "Recheck the data type to confirm it is a float."
      ],
      "metadata": {
        "id": "OFz65OX-xcHa"
      }
    },
    {
      "cell_type": "code",
      "source": [
        "distance = 130\n",
        "time = 6.0\n",
        "speed = distance / time\n",
        "\n",
        "print(f\"If it takes {time} hours to travel {distance} miles, the speed is {speed} miles per hour.\")\n",
        "\n",
        "print(type(distance))\n",
        "print(type(time))\n",
        "print(type(speed))"
      ],
      "metadata": {
        "id": "RxodwaNpxaQm",
        "outputId": "ae6bde92-7796-4c94-b970-666ee7f48f59",
        "colab": {
          "base_uri": "https://localhost:8080/"
        }
      },
      "execution_count": 7,
      "outputs": [
        {
          "output_type": "stream",
          "name": "stdout",
          "text": [
            "If it takes 3.0 hours to travel 140 miles, the speed is 46.666666666666664 miles per hour.\n",
            "<class 'int'>\n",
            "<class 'float'>\n",
            "<class 'float'>\n"
          ]
        }
      ]
    },
    {
      "cell_type": "markdown",
      "source": [
        "# Task 2a\n",
        "Define a variable **customer** that points to a string with the customer's name, Charlene.\n",
        "\n",
        "Print the customer's name using print(customer)"
      ],
      "metadata": {
        "id": "XHbK5vGrycvU"
      }
    },
    {
      "cell_type": "code",
      "source": [
        "customer = \"Sami\"\n",
        "print(customer)\n"
      ],
      "metadata": {
        "id": "NW5j7WZ_y604",
        "outputId": "69f560ce-6018-49a4-8ace-d8bc9267850b",
        "colab": {
          "base_uri": "https://localhost:8080/"
        }
      },
      "execution_count": 8,
      "outputs": [
        {
          "output_type": "stream",
          "name": "stdout",
          "text": [
            "Charlene\n"
          ]
        }
      ]
    },
    {
      "cell_type": "markdown",
      "source": [
        "# Task 2b\n",
        "Check the data type of customer"
      ],
      "metadata": {
        "id": "rqi5fTVozocO"
      }
    },
    {
      "cell_type": "code",
      "source": [
        "customer = \"Sami\"\n",
        "print(customer)\n",
        "\n",
        "print(type(customer))\n"
      ],
      "metadata": {
        "id": "rDhc3ttLzjCN",
        "outputId": "4f9707d4-6d0c-4e83-bdb4-852ddcacfa6f",
        "colab": {
          "base_uri": "https://localhost:8080/"
        }
      },
      "execution_count": 9,
      "outputs": [
        {
          "output_type": "stream",
          "name": "stdout",
          "text": [
            "Charlene\n",
            "<class 'str'>\n"
          ]
        }
      ]
    },
    {
      "cell_type": "markdown",
      "source": [
        "# Task 2c\n",
        "Set up a comparison statement using == to test if the customer is Charlene.\n",
        "\n",
        "Your code should return True."
      ],
      "metadata": {
        "id": "XuM8gGRmzyz0"
      }
    },
    {
      "cell_type": "code",
      "source": [
        "customer = \"Sami\"\n",
        "print(customer == \"Sami\")\n"
      ],
      "metadata": {
        "id": "m-69lURK0NIp",
        "outputId": "d11aa797-11d7-46d7-9dbb-a2f18a394614",
        "colab": {
          "base_uri": "https://localhost:8080/"
        }
      },
      "execution_count": 10,
      "outputs": [
        {
          "output_type": "stream",
          "name": "stdout",
          "text": [
            "True\n"
          ]
        }
      ]
    },
    {
      "cell_type": "markdown",
      "source": [
        "# Task 2d\n",
        "Set up a compararison statement using == to test if the customer is Bob.\n",
        "\n",
        "Your code should return False."
      ],
      "metadata": {
        "id": "Ox9QmPr-0NlO"
      }
    },
    {
      "cell_type": "code",
      "source": [
        "customer = \"Sam\"\n",
        "print(customer == \"Sami\")\n"
      ],
      "metadata": {
        "id": "BvWaCs5R0SO-",
        "outputId": "f807a28d-7139-4cb1-c89e-54993fc8ba79",
        "colab": {
          "base_uri": "https://localhost:8080/"
        }
      },
      "execution_count": 11,
      "outputs": [
        {
          "output_type": "stream",
          "name": "stdout",
          "text": [
            "False\n"
          ]
        }
      ]
    }
  ]
}